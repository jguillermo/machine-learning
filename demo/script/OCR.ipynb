{
 "cells": [
  {
   "cell_type": "code",
   "execution_count": null,
   "metadata": {},
   "outputs": [],
   "source": [
    "import tensorflow as tf\n",
    "from tensorflow.examples.tutorials.mnist import input_data\n",
    "mnist = input_data.read_data_sets('MNIST_data/',one_hot=True)"
   ]
  },
  {
   "cell_type": "code",
   "execution_count": null,
   "metadata": {},
   "outputs": [],
   "source": [
    "%matplotlib inline\n",
    "import matplotlib.pyplot as plt\n",
    "import numpy as np"
   ]
  },
  {
   "cell_type": "code",
   "execution_count": null,
   "metadata": {},
   "outputs": [],
   "source": [
    "plt.imshow(mnist.train.images[10].reshape(28,28), cmap='gray')"
   ]
  },
  {
   "cell_type": "code",
   "execution_count": null,
   "metadata": {},
   "outputs": [],
   "source": [
    "x = tf.placeholder(tf.float32, [None, 784])\n",
    "y_ = tf.placeholder(tf.float32,[None, 10])\n",
    "\n",
    "W = tf.Variable(tf.zeros([784, 10]))\n",
    "B = tf.Variable(tf.zeros([10]))\n",
    "\n",
    "y = tf.nn.tanh( tf.matmul(x, W) + B )\n",
    "\n",
    "#minSquerError \n",
    "mse = tf.reduce_mean( tf.square(y - y_) )\n",
    "\n",
    "train_step = tf.train.GradientDescentOptimizer(0.01).minimize(mse)\n",
    "\n",
    "init = tf.global_variables_initializer()\n",
    "sess = tf.Session()\n",
    "sess.run(init)"
   ]
  },
  {
   "cell_type": "code",
   "execution_count": null,
   "metadata": {},
   "outputs": [],
   "source": [
    "traintLoss = []\n",
    "testLoss = []\n",
    "\n",
    "for i in range(150):\n",
    "    batchX, batchY = mnist.train.next_batch(1000)\n",
    "    sess.run(train_step, feed_dict={x:batchX, y_:batchY})\n",
    "    \n",
    "    loss1 = sess.run(mse, feed_dict={x:batchX, y_:batchY})\n",
    "    loss2 = sess.run(mse, feed_dict={x:mnist.test.images, y_:mnist.test.labels})\n",
    "    \n",
    "    traintLoss.append(loss1)\n",
    "    testLoss.append(loss2)\n",
    "    \n",
    "print 'Traint finished'"
   ]
  },
  {
   "cell_type": "code",
   "execution_count": null,
   "metadata": {},
   "outputs": [],
   "source": [
    "plt.plot(traintLoss,'r')\n",
    "plt.plot(testLoss,'b')"
   ]
  },
  {
   "cell_type": "code",
   "execution_count": null,
   "metadata": {},
   "outputs": [],
   "source": [
    "pred = sess.run(y, feed_dict={x:mnist.test.images, y_: mnist.test.labels})"
   ]
  },
  {
   "cell_type": "code",
   "execution_count": null,
   "metadata": {},
   "outputs": [],
   "source": [
    "errors = 0\n",
    "for i in range (pred.shape[0]):\n",
    "    if(np.argmax(pred[i])!= np.argmax(mnist.test.labels[i])):\n",
    "        errors = errors +1\n",
    "print 'Test Error ' + str(float(errors)/pred.shape[0])"
   ]
  },
  {
   "cell_type": "code",
   "execution_count": null,
   "metadata": {},
   "outputs": [],
   "source": [
    "myW = sess.run(W)"
   ]
  },
  {
   "cell_type": "code",
   "execution_count": null,
   "metadata": {},
   "outputs": [],
   "source": [
    "for i in range(10):\n",
    "    plt.imshow(myW[:,i].reshape(28,28),cmap='bwr')\n",
    "    plt.show()"
   ]
  },
  {
   "cell_type": "code",
   "execution_count": null,
   "metadata": {},
   "outputs": [],
   "source": []
  }
 ],
 "metadata": {
  "kernelspec": {
   "display_name": "Python 2",
   "language": "python",
   "name": "python2"
  },
  "language_info": {
   "codemirror_mode": {
    "name": "ipython",
    "version": 2
   },
   "file_extension": ".py",
   "mimetype": "text/x-python",
   "name": "python",
   "nbconvert_exporter": "python",
   "pygments_lexer": "ipython2",
   "version": "2.7.12"
  }
 },
 "nbformat": 4,
 "nbformat_minor": 2
}
