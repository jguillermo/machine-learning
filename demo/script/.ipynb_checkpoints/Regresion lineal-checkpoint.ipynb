{
 "cells": [
  {
   "cell_type": "code",
   "execution_count": null,
   "metadata": {},
   "outputs": [],
   "source": [
    "import numpy as np\n",
    "import matplotlib.pyplot as plt\n",
    "import tensorflow as tf\n",
    "\n",
    "num_puntos = 1000\n",
    "conjunto_puntos = []\n",
    "for i in xrange(num_puntos):\n",
    "    x1= np.random.normal(0.0, 0.55)\n",
    "    y1= x1*0.1+0.3+np.random.normal(0.0,0.03)\n",
    "    conjunto_puntos.append([x1, y1])\n",
    "\n",
    "x_data = [v[0] for v in conjunto_puntos]\n",
    "y_data = [v[1] for v in conjunto_puntos]\n",
    "\n",
    "plt.plot(x_data, y_data,'ro',label='Original data')\n",
    "plt.legend()\n",
    "plt.show()"
   ]
  },
  {
   "cell_type": "code",
   "execution_count": null,
   "metadata": {},
   "outputs": [],
   "source": [
    "W = tf.Variable(tf.random_uniform([1],-1.0,1.0))\n",
    "b = tf.Variable(tf.zeros([1]))\n",
    "y = W * x_data + b\n",
    "\n",
    "loss = tf.reduce_mean(tf.square(y - y_data))\n",
    "\n",
    "optimizer = tf.train.GradientDescentOptimizer(0.5)\n",
    "train = optimizer.minimize(loss)"
   ]
  },
  {
   "cell_type": "code",
   "execution_count": null,
   "metadata": {},
   "outputs": [],
   "source": [
    "init = tf.global_variables_initializer()\n",
    "\n",
    "sess = tf.Session()\n",
    "sess.run(init)\n",
    "\n",
    "for step in xrange(8):\n",
    "    sess.run(train)\n",
    "print step, sess.run(W), sess.run(b)"
   ]
  },
  {
   "cell_type": "code",
   "execution_count": null,
   "metadata": {},
   "outputs": [],
   "source": [
    "plt.plot(x_data, y_data, 'ro')\n",
    "plt.plot(x_data, sess.run(W) * x_data + sess.run(b))\n",
    "plt.legend()\n",
    "plt.show()"
   ]
  },
  {
   "cell_type": "code",
   "execution_count": null,
   "metadata": {},
   "outputs": [],
   "source": [
    "import numpy as np\n",
    "\n",
    "num_puntos = 1000\n",
    "conjunto_puntos = []\n",
    "for i in xrange(num_puntos):\n",
    "     x1= np.random.normal(0.0, 0.55)\n",
    "     y1= x1 * 0.1 + 0.3 + np.random.normal(0.0, 0.03)\n",
    "     conjunto_puntos.append([x1, y1])\n",
    "\n",
    "x_data = [v[0] for v in conjunto_puntos]\n",
    "y_data = [v[1] for v in conjunto_puntos]\n",
    "\n",
    "import matplotlib.pyplot as plt\n",
    "\n",
    "#Graphic display\n",
    "plt.plot(x_data, y_data, 'ro')\n",
    "plt.legend()\n",
    "plt.show()\n",
    "\n",
    "import tensorflow as tf\n",
    "\n",
    "W = tf.Variable(tf.random_uniform([1], -1.0, 1.0))\n",
    "b = tf.Variable(tf.zeros([1]))\n",
    "y = W * x_data + b\n",
    "\n",
    "loss = tf.reduce_mean(tf.square(y - y_data))\n",
    "optimizer = tf.train.GradientDescentOptimizer(0.5)\n",
    "train = optimizer.minimize(loss)\n",
    "\n",
    "init = tf.initialize_all_variables()\n",
    "\n",
    "sess = tf.Session()\n",
    "sess.run(init)\n",
    "\n",
    "for step in xrange(20):\n",
    "        sess.run(train)\n",
    "        print(step, sess.run(W), sess.run(b))\n",
    "        #Graphic display\n",
    "        plt.plot(x_data, y_data, 'ro')\n",
    "        plt.plot(x_data, sess.run(W) * x_data + sess.run(b))\n",
    "        plt.xlabel('x')\n",
    "        plt.xlim(-2,2)\n",
    "        plt.ylim(0.1,0.6)\n",
    "        plt.ylabel('y')\n",
    "        plt.legend()\n",
    "        plt.show()"
   ]
  },
  {
   "cell_type": "code",
   "execution_count": null,
   "metadata": {},
   "outputs": [],
   "source": []
  }
 ],
 "metadata": {
  "kernelspec": {
   "display_name": "Python 2",
   "language": "python",
   "name": "python2"
  },
  "language_info": {
   "codemirror_mode": {
    "name": "ipython",
    "version": 2
   },
   "file_extension": ".py",
   "mimetype": "text/x-python",
   "name": "python",
   "nbconvert_exporter": "python",
   "pygments_lexer": "ipython2",
   "version": "2.7.12"
  }
 },
 "nbformat": 4,
 "nbformat_minor": 2
}
