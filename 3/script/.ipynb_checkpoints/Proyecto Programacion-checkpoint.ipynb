{
 "cells": [
  {
   "cell_type": "markdown",
   "metadata": {},
   "source": [
    "# DEMO\n"
   ]
  },
  {
   "cell_type": "markdown",
   "metadata": {},
   "source": [
    "## Creacion de entidades"
   ]
  },
  {
   "cell_type": "code",
   "execution_count": 14,
   "metadata": {},
   "outputs": [],
   "source": [
    "class Alumno:\n",
    "    def __init__(self,nombre):\n",
    "        self.nombre = nombre\n",
    "        \n",
    "    def getNombre(self):\n",
    "        return self.nombre\n",
    "    \n",
    "class Curso:\n",
    "    def __init__(self,codigo, nombre):\n",
    "        self.codigo = codigo\n",
    "        self.nombre = nombre\n",
    "        \n",
    "class Calificaciones:\n",
    "    def __init__ (self,alumno,curso):\n",
    "        self.alumno = alumno\n",
    "        self.curso = curso\n",
    "        self.notas=[]\n",
    "        self.aprobo = False\n",
    "        \n",
    "    def agregarNota(self,nota):\n",
    "        self.notas.append(nota)\n",
    "    \n",
    "    def getPromedio(self):\n",
    "        sumaNotas = 0\n",
    "        for n in self.notas\n",
    "            sumaNotas = sumaNotas + n\n",
    "        return sumaNotas/len(self.notas)\n",
    "        \n",
    "        \n",
    "        "
   ]
  },
  {
   "cell_type": "markdown",
   "metadata": {},
   "source": [
    "## Creación de servicios"
   ]
  },
  {
   "cell_type": "code",
   "execution_count": 13,
   "metadata": {},
   "outputs": [
    {
     "name": "stdout",
     "output_type": "stream",
     "text": [
      "jose\n"
     ]
    }
   ],
   "source": [
    "\n",
    "\n",
    "alumno1 = Alumno('Alumno 1')\n",
    "alumno2 = Alumno('Alumno 2')\n",
    "alumno3 = Alumno('Alumno 3')\n",
    "alumno4 = Alumno('Alumno 4')\n",
    "\n",
    "print (alumno1.getNombre())\n",
    "\n"
   ]
  },
  {
   "cell_type": "code",
   "execution_count": null,
   "metadata": {
    "collapsed": true
   },
   "outputs": [],
   "source": []
  }
 ],
 "metadata": {
  "kernelspec": {
   "display_name": "Python 2",
   "language": "python",
   "name": "python2"
  },
  "language_info": {
   "codemirror_mode": {
    "name": "ipython",
    "version": 2
   },
   "file_extension": ".py",
   "mimetype": "text/x-python",
   "name": "python",
   "nbconvert_exporter": "python",
   "pygments_lexer": "ipython2",
   "version": "2.7.12"
  }
 },
 "nbformat": 4,
 "nbformat_minor": 2
}
