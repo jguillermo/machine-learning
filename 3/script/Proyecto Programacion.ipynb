{
 "cells": [
  {
   "cell_type": "markdown",
   "metadata": {},
   "source": [
    "# DEMO\n"
   ]
  },
  {
   "cell_type": "markdown",
   "metadata": {},
   "source": [
    "## Creacion de entidades"
   ]
  },
  {
   "cell_type": "code",
   "execution_count": 89,
   "metadata": {},
   "outputs": [],
   "source": [
    "class Alumno:\n",
    "    def __init__(self,nombre):\n",
    "        self.nombre = nombre\n",
    "        \n",
    "    def getNombre(self):\n",
    "        return self.nombre\n",
    "    \n",
    "class Curso:\n",
    "    def __init__(self,codigo, nombre):\n",
    "        self.codigo = codigo\n",
    "        self.nombre = nombre\n",
    "        \n",
    "    def getCurso(self):\n",
    "        return self.nombre\n",
    "        \n",
    "class Calificaciones:\n",
    "    def __init__ (self,alumno,curso):\n",
    "        self.alumno = alumno\n",
    "        self.curso = curso\n",
    "        self.notas=[]\n",
    "        \n",
    "    def agregarNota(self,nota):\n",
    "        self.notas.append(nota)\n",
    "    \n",
    "    def getPromedio(self):\n",
    "        sumaNotas = 0\n",
    "        for n in self.notas:\n",
    "            sumaNotas = sumaNotas + n\n",
    "        return sumaNotas/len(self.notas)\n",
    "    \n",
    "    def aproboCurso(self):\n",
    "        if self.getPromedio() > 12.0:\n",
    "            return 'SI'\n",
    "        else:\n",
    "            return 'NO'\n",
    "        \n",
    "    def __str__(self):\n",
    "        return 'curso: {} - Alumno {} promedio : {}  aprobó : {}'.format(self.curso.getCurso(), self.alumno.getNombre(), self.getPromedio(),self.aproboCurso())\n",
    "        \n",
    "        "
   ]
  },
  {
   "cell_type": "markdown",
   "metadata": {},
   "source": [
    "## Ingreso de datos"
   ]
  },
  {
   "cell_type": "code",
   "execution_count": 92,
   "metadata": {},
   "outputs": [
    {
     "name": "stdout",
     "output_type": "stream",
     "text": [
      "curso: Sistema TI - Alumno Jose promedio : 14  aprobó : SI\n",
      "curso: Sistema TI - Alumno ALejandro promedio : 19  aprobó : SI\n",
      "curso: Sistema TI - Alumno Carlos promedio : 14  aprobó : SI\n",
      "curso: Sistema TI - Alumno Susan promedio : 9  aprobó : NO\n"
     ]
    }
   ],
   "source": [
    "\n",
    "alumno1 = Alumno('Jose')\n",
    "alumno2 = Alumno('ALejandro')\n",
    "alumno3 = Alumno('Carlos')\n",
    "alumno4 = Alumno('Susan')\n",
    "\n",
    "curso = Curso('U15','Sistema TI')\n",
    "\n",
    "\n",
    "calificacion1 = Calificaciones(alumno1,curso)\n",
    "calificacion1.agregarNota(12)\n",
    "calificacion1.agregarNota(17)\n",
    "\n",
    "calificacion2 = Calificaciones(alumno2,curso)\n",
    "calificacion2.agregarNota(18)\n",
    "calificacion2.agregarNota(20)\n",
    "\n",
    "calificacion3 = Calificaciones(alumno3,curso)\n",
    "calificacion3.agregarNota(15)\n",
    "calificacion3.agregarNota(14)\n",
    "\n",
    "calificacion4 = Calificaciones(alumno4,curso)\n",
    "calificacion4.agregarNota(8)\n",
    "calificacion4.agregarNota(10)\n",
    "\n",
    "\n",
    "print(calificacion1)\n",
    "print(calificacion2)\n",
    "print(calificacion3)\n",
    "print(calificacion4)\n",
    "\n",
    "\n"
   ]
  },
  {
   "cell_type": "markdown",
   "metadata": {},
   "source": [
    "## Notas por parámetros"
   ]
  },
  {
   "cell_type": "code",
   "execution_count": null,
   "metadata": {
    "collapsed": true
   },
   "outputs": [],
   "source": []
  }
 ],
 "metadata": {
  "kernelspec": {
   "display_name": "Python 2",
   "language": "python",
   "name": "python2"
  },
  "language_info": {
   "codemirror_mode": {
    "name": "ipython",
    "version": 2
   },
   "file_extension": ".py",
   "mimetype": "text/x-python",
   "name": "python",
   "nbconvert_exporter": "python",
   "pygments_lexer": "ipython2",
   "version": "2.7.12"
  }
 },
 "nbformat": 4,
 "nbformat_minor": 2
}
