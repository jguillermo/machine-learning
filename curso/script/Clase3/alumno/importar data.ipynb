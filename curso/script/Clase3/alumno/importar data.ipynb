{
 "cells": [
  {
   "cell_type": "code",
   "execution_count": 16,
   "metadata": {},
   "outputs": [],
   "source": [
    "import pandas as pd\n",
    "import numpy as np\n",
    "from io import StringIO\n",
    "from sklearn.model_selection import train_test_split, cross_val_score\n",
    "from sklearn import tree, datasets, svm, grid_search\n",
    "from sklearn.metrics import make_scorer, accuracy_score"
   ]
  },
  {
   "cell_type": "code",
   "execution_count": 17,
   "metadata": {},
   "outputs": [],
   "source": [
    "df = pd.read_csv(\"student/student-por.csv\",\";\")"
   ]
  },
  {
   "cell_type": "code",
   "execution_count": 18,
   "metadata": {},
   "outputs": [],
   "source": [
    "# procesamiento de la data\n",
    "\n",
    "df[\"out_tem\"] = ((df[\"G1\"]+df[\"G2\"]+df[\"G3\"]) / 3)\n",
    "    \n",
    "df_target = df['out_tem'].apply(lambda x: 1 if x>10 else 0 )\n",
    "\n",
    "df.drop(labels=[\"G1\",\"G2\",\"G3\",\"out_tem\"], axis=1)\n",
    "\n",
    "df = pd.get_dummies(df,drop_first=True)    \n"
   ]
  },
  {
   "cell_type": "code",
   "execution_count": 19,
   "metadata": {},
   "outputs": [],
   "source": [
    "# separando la data\n",
    "X_train, X_test, y_train, y_test = train_test_split(df,df_target, test_size=0.2)"
   ]
  },
  {
   "cell_type": "code",
   "execution_count": 20,
   "metadata": {},
   "outputs": [
    {
     "data": {
      "text/plain": [
       "1.0"
      ]
     },
     "execution_count": 20,
     "metadata": {},
     "output_type": "execute_result"
    }
   ],
   "source": [
    "# Entrenando el arbol de decision\n",
    "clf = svm.SVC(kernel='linear', C=1).fit(X_train, y_train)\n",
    "clf.score(X_test, y_test)"
   ]
  },
  {
   "cell_type": "code",
   "execution_count": 21,
   "metadata": {},
   "outputs": [
    {
     "name": "stdout",
     "output_type": "stream",
     "text": [
      "[ 0.99038462  0.99038462  0.97115385  1.          1.        ]\n"
     ]
    }
   ],
   "source": [
    "# Ejecutando validación cruzada\n",
    "scores = cross_val_score(clf, X_train, y_train, cv=5, scoring='accuracy')\n",
    "print(scores)"
   ]
  },
  {
   "cell_type": "code",
   "execution_count": 23,
   "metadata": {},
   "outputs": [
    {
     "data": {
      "text/plain": [
       "GridSearchCV(cv=5, error_score='raise',\n",
       "       estimator=SVC(C=1.0, cache_size=200, class_weight=None, coef0=0.0,\n",
       "  decision_function_shape=None, degree=3, gamma='auto', kernel='rbf',\n",
       "  max_iter=-1, probability=False, random_state=0, shrinking=True,\n",
       "  tol=0.001, verbose=False),\n",
       "       fit_params={}, iid=True, n_jobs=1,\n",
       "       param_grid={'C': [0.1, 1, 10, 100], 'kernel': ['linear', 'rbf'], 'gamma': array([ 0.1  ,  0.01 ,  0.001])},\n",
       "       pre_dispatch='2*n_jobs', refit=True,\n",
       "       scoring=make_scorer(accuracy_score), verbose=0)"
      ]
     },
     "execution_count": 23,
     "metadata": {},
     "output_type": "execute_result"
    }
   ],
   "source": [
    "# Definiendo el espacio de búsqueda de nuestro algoritmo\n",
    "parameters = {\n",
    "'C': [0.1, 1, 10, 100],\n",
    "'kernel': ['linear','rbf'],\n",
    "'gamma' : 10.0**-np.arange(1,4)\n",
    "}\n",
    "\n",
    "clf = svm.SVC(random_state=0)\n",
    "\n",
    "#score = 'accuracy' #Pasando como texto\n",
    "#Creando un scorer\n",
    "accuracy_scorer = make_scorer(accuracy_score)\n",
    "gridCV = grid_search.GridSearchCV(clf, parameters, scoring=accuracy_scorer, cv = 5) #\n",
    "gridCV.fit(X_train,y_train)"
   ]
  },
  {
   "cell_type": "code",
   "execution_count": 24,
   "metadata": {},
   "outputs": [
    {
     "name": "stdout",
     "output_type": "stream",
     "text": [
      "Mejor exactitud:  0.9903660886319846\n",
      "Resultados parciales:  [mean: 0.98073, std: 0.01215, params: {'C': 0.1, 'gamma': 0.10000000000000001, 'kernel': 'linear'}, mean: 0.69171, std: 0.00119, params: {'C': 0.1, 'gamma': 0.10000000000000001, 'kernel': 'rbf'}, mean: 0.98073, std: 0.01215, params: {'C': 0.1, 'gamma': 0.01, 'kernel': 'linear'}, mean: 0.96917, std: 0.01118, params: {'C': 0.1, 'gamma': 0.01, 'kernel': 'rbf'}, mean: 0.98073, std: 0.01215, params: {'C': 0.1, 'gamma': 0.001, 'kernel': 'linear'}, mean: 0.78998, std: 0.02011, params: {'C': 0.1, 'gamma': 0.001, 'kernel': 'rbf'}, mean: 0.99037, std: 0.01053, params: {'C': 1, 'gamma': 0.10000000000000001, 'kernel': 'linear'}, mean: 0.88054, std: 0.03362, params: {'C': 1, 'gamma': 0.10000000000000001, 'kernel': 'rbf'}, mean: 0.99037, std: 0.01053, params: {'C': 1, 'gamma': 0.01, 'kernel': 'linear'}, mean: 0.97495, std: 0.00991, params: {'C': 1, 'gamma': 0.01, 'kernel': 'rbf'}, mean: 0.99037, std: 0.01053, params: {'C': 1, 'gamma': 0.001, 'kernel': 'linear'}, mean: 0.97881, std: 0.01119, params: {'C': 1, 'gamma': 0.001, 'kernel': 'rbf'}, mean: 0.99037, std: 0.01053, params: {'C': 10, 'gamma': 0.10000000000000001, 'kernel': 'linear'}, mean: 0.88439, std: 0.03435, params: {'C': 10, 'gamma': 0.10000000000000001, 'kernel': 'rbf'}, mean: 0.99037, std: 0.01053, params: {'C': 10, 'gamma': 0.01, 'kernel': 'linear'}, mean: 0.97495, std: 0.00978, params: {'C': 10, 'gamma': 0.01, 'kernel': 'rbf'}, mean: 0.99037, std: 0.01053, params: {'C': 10, 'gamma': 0.001, 'kernel': 'linear'}, mean: 0.97688, std: 0.01783, params: {'C': 10, 'gamma': 0.001, 'kernel': 'rbf'}, mean: 0.99037, std: 0.01053, params: {'C': 100, 'gamma': 0.10000000000000001, 'kernel': 'linear'}, mean: 0.88439, std: 0.03435, params: {'C': 100, 'gamma': 0.10000000000000001, 'kernel': 'rbf'}, mean: 0.99037, std: 0.01053, params: {'C': 100, 'gamma': 0.01, 'kernel': 'linear'}, mean: 0.97110, std: 0.01718, params: {'C': 100, 'gamma': 0.01, 'kernel': 'rbf'}, mean: 0.99037, std: 0.01053, params: {'C': 100, 'gamma': 0.001, 'kernel': 'linear'}, mean: 0.98459, std: 0.00768, params: {'C': 100, 'gamma': 0.001, 'kernel': 'rbf'}]\n",
      "Mejor conjunto de parámetros:  {'C': 1, 'gamma': 0.10000000000000001, 'kernel': 'linear'}\n"
     ]
    }
   ],
   "source": [
    "print(\"Mejor exactitud: \", gridCV.best_score_)\n",
    "print(\"Resultados parciales: \", gridCV.grid_scores_)\n",
    "print(\"Mejor conjunto de parámetros: \", gridCV.best_params_)"
   ]
  },
  {
   "cell_type": "code",
   "execution_count": 25,
   "metadata": {},
   "outputs": [
    {
     "name": "stdout",
     "output_type": "stream",
     "text": [
      "             precision    recall  f1-score   support\n",
      "\n",
      "          0       1.00      1.00      1.00        39\n",
      "          1       1.00      1.00      1.00        91\n",
      "\n",
      "avg / total       1.00      1.00      1.00       130\n",
      "\n",
      "1.0\n"
     ]
    }
   ],
   "source": [
    "#Ejecutando el mejor modelo\n",
    "pred_test = gridCV.predict(X_test)\n",
    "\n",
    "from sklearn.metrics import classification_report\n",
    "classes = ['0', '1','2']\n",
    "print(classification_report(y_test, pred_test, target_names=classes))\n",
    "print(accuracy_score(y_test,pred_test))"
   ]
  },
  {
   "cell_type": "code",
   "execution_count": 26,
   "metadata": {},
   "outputs": [
    {
     "data": {
      "text/plain": [
       "array([[39,  0],\n",
       "       [ 0, 91]])"
      ]
     },
     "execution_count": 26,
     "metadata": {},
     "output_type": "execute_result"
    }
   ],
   "source": [
    "from sklearn.metrics import confusion_matrix\n",
    "confusion_matrix(y_test, pred_test)"
   ]
  },
  {
   "cell_type": "code",
   "execution_count": 28,
   "metadata": {},
   "outputs": [
    {
     "name": "stdout",
     "output_type": "stream",
     "text": [
      "1e-10 - [ 0.68965517  0.69364162  0.69186047]\n",
      "1.29154966501e-09 - [ 0.68965517  0.69364162  0.69186047]\n",
      "1.6681005372e-08 - [ 0.68965517  0.69364162  0.69186047]\n",
      "2.15443469003e-07 - [ 0.68965517  0.69364162  0.69186047]\n",
      "2.78255940221e-06 - [ 0.68965517  0.71098266  0.69767442]\n",
      "3.5938136638e-05 - [ 0.97126437  0.96531792  0.97674419]\n",
      "0.000464158883361 - [ 0.97701149  0.96531792  0.99418605]\n",
      "0.00599484250319 - [ 0.97126437  0.98265896  0.98837209]\n",
      "0.0774263682681 - [ 0.99425287  0.98265896  0.99418605]\n",
      "1.0 - [ 0.99425287  0.98265896  0.99418605]\n"
     ]
    },
    {
     "data": {
      "image/png": "[encoded data removed]",
      "text/plain": [
       "<matplotlib.figure.Figure at 0x7faf194360b8>"
      ]
     },
     "metadata": {},
     "output_type": "display_data"
    }
   ],
   "source": [
    "svc = svm.SVC(kernel='poly')\n",
    "C_s = np.logspace(-10, 0, 10)\n",
    "scores = list()\n",
    "scores_std = list()\n",
    "for C in C_s:\n",
    "    svc.C = C\n",
    "    this_scores = cross_val_score(svc, X_train, y_train)\n",
    "    print(str(C) + \" - \" + str(this_scores))\n",
    "    scores.append(np.mean(this_scores))\n",
    "    scores_std.append(np.std(this_scores))\n",
    "\n",
    "# Do the plotting\n",
    "import matplotlib.pyplot as plt\n",
    "plt.figure(1, figsize=(4, 3))\n",
    "plt.clf()\n",
    "plt.semilogx(C_s, scores)\n",
    "plt.semilogx(C_s, np.array(scores) + np.array(scores_std), 'b--')\n",
    "plt.semilogx(C_s, np.array(scores) - np.array(scores_std), 'b--')\n",
    "locs, labels = plt.yticks()\n",
    "plt.yticks(locs, list(map(lambda x: \"%g\" % x, locs)))\n",
    "plt.ylabel('CV score')\n",
    "plt.xlabel('Parameter C')\n",
    "plt.ylim(0, 1.1)\n",
    "plt.show()"
   ]
  },
  {
   "cell_type": "code",
   "execution_count": 29,
   "metadata": {},
   "outputs": [],
   "source": [
    "# Importando el método \n",
    "from sklearn.model_selection import validation_curve\n",
    "from sklearn.preprocessing import StandardScaler\n",
    "\n",
    "from sklearn.pipeline import Pipeline\n",
    "pipe_lr = Pipeline([('scl', StandardScaler()),\n",
    "                    ('clf', svm.SVC(kernel='linear', random_state=1))])"
   ]
  },
  {
   "cell_type": "code",
   "execution_count": 32,
   "metadata": {},
   "outputs": [],
   "source": [
    "param_range = [0.001, 0.01, 0.1, 1.0, 10.0, 100.0]\n",
    "train_scores, test_scores = validation_curve(estimator=pipe_lr, X=X_train, y=y_train, param_name='clf__C',param_range=param_range, cv=10)"
   ]
  },
  {
   "cell_type": "code",
   "execution_count": 34,
   "metadata": {},
   "outputs": [
    {
     "data": {
      "image/png": "[encoded data removed]",
      "text/plain": [
       "<matplotlib.figure.Figure at 0x7faf13958a20>"
      ]
     },
     "metadata": {},
     "output_type": "display_data"
    }
   ],
   "source": [
    "train_mean = np.mean(train_scores, axis=1)\n",
    "train_std = np.std(train_scores, axis=1)\n",
    "test_mean = np.mean(test_scores, axis=1)\n",
    "test_std = np.std(test_scores, axis=1)\n",
    "\n",
    "import matplotlib.pyplot as plt\n",
    "plt.plot(param_range, train_mean, \n",
    "         color='blue', marker='o', \n",
    "         markersize=5, label='training accuracy')\n",
    "\n",
    "plt.fill_between(param_range, train_mean + train_std,\n",
    "                 train_mean - train_std, alpha=0.15,\n",
    "                 color='blue')\n",
    "\n",
    "plt.plot(param_range, test_mean, \n",
    "         color='green', linestyle='--', \n",
    "         marker='s', markersize=5, \n",
    "         label='validation accuracy')\n",
    "\n",
    "plt.fill_between(param_range, \n",
    "                 test_mean + test_std,\n",
    "                 test_mean - test_std, \n",
    "                 alpha=0.15, color='green')\n",
    "\n",
    "plt.grid()\n",
    "plt.xscale('log')\n",
    "plt.legend(loc='lower right')\n",
    "plt.xlabel('Parameter C')\n",
    "plt.ylabel('Accuracy')\n",
    "plt.ylim([0.8, 1.0])\n",
    "plt.tight_layout()\n",
    "# plt.savefig('./figures/validation_curve.png', dpi=300)\n",
    "plt.show()"
   ]
  },
  {
   "cell_type": "code",
   "execution_count": null,
   "metadata": {},
   "outputs": [],
   "source": []
  }
 ],
 "metadata": {
  "kernelspec": {
   "display_name": "Python 3",
   "language": "python",
   "name": "python3"
  },
  "language_info": {
   "codemirror_mode": {
    "name": "ipython",
    "version": 3
   },
   "file_extension": ".py",
   "mimetype": "text/x-python",
   "name": "python",
   "nbconvert_exporter": "python",
   "pygments_lexer": "ipython3",
   "version": "3.6.3"
  }
 },
 "nbformat": 4,
 "nbformat_minor": 2
}
