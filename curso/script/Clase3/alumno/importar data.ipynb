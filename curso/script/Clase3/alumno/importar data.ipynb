{
 "cells": [
  {
   "cell_type": "code",
   "execution_count": 1,
   "metadata": {},
   "outputs": [],
   "source": [
    "import pandas as pd\n",
    "from io import StringIO\n",
    "from sklearn.model_selection import train_test_split"
   ]
  },
  {
   "cell_type": "code",
   "execution_count": 2,
   "metadata": {},
   "outputs": [],
   "source": [
    "df = pd.read_csv(\"student/student-por.csv\",\";\")"
   ]
  },
  {
   "cell_type": "code",
   "execution_count": 3,
   "metadata": {},
   "outputs": [],
   "source": [
    "# procesamiento de la data\n",
    "\n",
    "df[\"out_tem\"] = ((df[\"G1\"]+df[\"G2\"]+df[\"G3\"]) / 3)\n",
    "    \n",
    "df_target = df['out_tem'].apply(lambda x: 1 if x>10 else 0 )\n",
    "\n",
    "df.drop(labels=[\"G1\",\"G2\",\"G3\",\"out_tem\"], axis=1)\n",
    "\n",
    "df = pd.get_dummies(df,drop_first=True)    \n"
   ]
  },
  {
   "cell_type": "code",
   "execution_count": 4,
   "metadata": {},
   "outputs": [],
   "source": [
    "# separando la data\n",
    "X_train, X_test, y_train, y_test = train_test_split(df,df_target, test_size=0.2)"
   ]
  },
  {
   "cell_type": "code",
   "execution_count": null,
   "metadata": {},
   "outputs": [],
   "source": []
  }
 ],
 "metadata": {
  "kernelspec": {
   "display_name": "Python 3",
   "language": "python",
   "name": "python3"
  },
  "language_info": {
   "codemirror_mode": {
    "name": "ipython",
    "version": 3
   },
   "file_extension": ".py",
   "mimetype": "text/x-python",
   "name": "python",
   "nbconvert_exporter": "python",
   "pygments_lexer": "ipython3",
   "version": "3.6.3"
  }
 },
 "nbformat": 4,
 "nbformat_minor": 2
}
