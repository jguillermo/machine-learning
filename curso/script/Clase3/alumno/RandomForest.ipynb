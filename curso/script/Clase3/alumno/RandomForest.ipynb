{
 "cells": [
  {
   "cell_type": "code",
   "execution_count": 20,
   "metadata": {},
   "outputs": [],
   "source": [
    "import pandas as pd\n",
    "import numpy as np\n",
    "from io import StringIO\n",
    "from sklearn.model_selection import train_test_split, cross_val_score\n",
    "from sklearn import tree, datasets, svm, grid_search\n",
    "from sklearn.metrics import make_scorer, accuracy_score\n",
    "from sklearn.ensemble import RandomForestClassifier"
   ]
  },
  {
   "cell_type": "code",
   "execution_count": 21,
   "metadata": {},
   "outputs": [],
   "source": [
    "df = pd.read_csv(\"student/student-por.csv\",\";\")"
   ]
  },
  {
   "cell_type": "code",
   "execution_count": 22,
   "metadata": {},
   "outputs": [],
   "source": [
    "# procesamiento de la data\n",
    "\n",
    "df[\"out_tem\"] = ((df[\"G1\"]+df[\"G2\"]+df[\"G3\"]) / 3)\n",
    "    \n",
    "df_target = df['out_tem'].apply(lambda x: 1 if x>10 else 0 )\n",
    "\n",
    "df.drop(labels=[\"G1\",\"G2\",\"G3\",\"out_tem\"], axis=1)\n",
    "\n",
    "df = pd.get_dummies(df,drop_first=True)    \n"
   ]
  },
  {
   "cell_type": "code",
   "execution_count": 23,
   "metadata": {},
   "outputs": [],
   "source": [
    "# separando la data\n",
    "X_train, X_test, y_train, y_test = train_test_split(df,df_target, test_size=0.2)"
   ]
  },
  {
   "cell_type": "code",
   "execution_count": 26,
   "metadata": {},
   "outputs": [
    {
     "data": {
      "text/plain": [
       "RandomForestClassifier(bootstrap=True, class_weight=None, criterion='entropy',\n",
       "            max_depth=None, max_features='auto', max_leaf_nodes=None,\n",
       "            min_impurity_split=1e-07, min_samples_leaf=1,\n",
       "            min_samples_split=2, min_weight_fraction_leaf=0.0,\n",
       "            n_estimators=5, n_jobs=1, oob_score=False, random_state=1,\n",
       "            verbose=0, warm_start=False)"
      ]
     },
     "execution_count": 26,
     "metadata": {},
     "output_type": "execute_result"
    }
   ],
   "source": [
    "# Entrenando el arbol de decision\n",
    "clf = RandomForestClassifier(criterion='entropy',n_estimators=5, random_state=1)\n",
    "clf.fit(X_test, y_test)\n"
   ]
  },
  {
   "cell_type": "code",
   "execution_count": 27,
   "metadata": {},
   "outputs": [
    {
     "name": "stdout",
     "output_type": "stream",
     "text": [
      "[ 1.          1.          1.          0.98058252  1.        ]\n"
     ]
    }
   ],
   "source": [
    "# Ejecutando validación cruzada\n",
    "scores = cross_val_score(clf, X_train, y_train, cv=5, scoring='accuracy')\n",
    "print(scores)"
   ]
  },
  {
   "cell_type": "code",
   "execution_count": 28,
   "metadata": {},
   "outputs": [
    {
     "data": {
      "text/plain": [
       "GridSearchCV(cv=5, error_score='raise',\n",
       "       estimator=RandomForestClassifier(bootstrap=True, class_weight=None, criterion='gini',\n",
       "            max_depth=None, max_features='auto', max_leaf_nodes=None,\n",
       "            min_impurity_split=1e-07, min_samples_leaf=1,\n",
       "            min_samples_split=2, min_weight_fraction_leaf=0.0,\n",
       "            n_estimators=10, n_jobs=1, oob_score=False, random_state=1,\n",
       "            verbose=0, warm_start=False),\n",
       "       fit_params={}, iid=True, n_jobs=1,\n",
       "       param_grid={'n_estimators': [1, 2, 3, 4, 5, 6, 7, 8, 9, 10], 'criterion': ['gini', 'entropy']},\n",
       "       pre_dispatch='2*n_jobs', refit=True,\n",
       "       scoring=make_scorer(accuracy_score), verbose=0)"
      ]
     },
     "execution_count": 28,
     "metadata": {},
     "output_type": "execute_result"
    }
   ],
   "source": [
    "# Definiendo el espacio de búsqueda de nuestro algoritmo\n",
    "parameters = {\n",
    "'n_estimators': [1,2,3,4,5,6,7,8,9,10],\n",
    "'criterion': ['gini','entropy']\n",
    "}\n",
    "\n",
    "clf = RandomForestClassifier(random_state=1)\n",
    "\n",
    "#score = 'accuracy' #Pasando como texto\n",
    "#Creando un scorer\n",
    "accuracy_scorer = make_scorer(accuracy_score)\n",
    "gridCV = grid_search.GridSearchCV(clf, parameters, scoring=accuracy_scorer, cv = 5) #\n",
    "gridCV.fit(X_train,y_train)"
   ]
  },
  {
   "cell_type": "code",
   "execution_count": 29,
   "metadata": {},
   "outputs": [
    {
     "name": "stdout",
     "output_type": "stream",
     "text": [
      "Mejor exactitud:  1.0\n",
      "Resultados parciales:  [mean: 0.98844, std: 0.01553, params: {'criterion': 'gini', 'n_estimators': 1}, mean: 0.97495, std: 0.01288, params: {'criterion': 'gini', 'n_estimators': 2}, mean: 0.99422, std: 0.01165, params: {'criterion': 'gini', 'n_estimators': 3}, mean: 1.00000, std: 0.00000, params: {'criterion': 'gini', 'n_estimators': 4}, mean: 0.99615, std: 0.00777, params: {'criterion': 'gini', 'n_estimators': 5}, mean: 1.00000, std: 0.00000, params: {'criterion': 'gini', 'n_estimators': 6}, mean: 1.00000, std: 0.00000, params: {'criterion': 'gini', 'n_estimators': 7}, mean: 1.00000, std: 0.00000, params: {'criterion': 'gini', 'n_estimators': 8}, mean: 1.00000, std: 0.00000, params: {'criterion': 'gini', 'n_estimators': 9}, mean: 1.00000, std: 0.00000, params: {'criterion': 'gini', 'n_estimators': 10}, mean: 0.98844, std: 0.01413, params: {'criterion': 'entropy', 'n_estimators': 1}, mean: 0.97881, std: 0.01641, params: {'criterion': 'entropy', 'n_estimators': 2}, mean: 0.99422, std: 0.01165, params: {'criterion': 'entropy', 'n_estimators': 3}, mean: 0.99807, std: 0.00388, params: {'criterion': 'entropy', 'n_estimators': 4}, mean: 0.99615, std: 0.00777, params: {'criterion': 'entropy', 'n_estimators': 5}, mean: 0.99807, std: 0.00388, params: {'criterion': 'entropy', 'n_estimators': 6}, mean: 0.99807, std: 0.00388, params: {'criterion': 'entropy', 'n_estimators': 7}, mean: 1.00000, std: 0.00000, params: {'criterion': 'entropy', 'n_estimators': 8}, mean: 1.00000, std: 0.00000, params: {'criterion': 'entropy', 'n_estimators': 9}, mean: 1.00000, std: 0.00000, params: {'criterion': 'entropy', 'n_estimators': 10}]\n",
      "Mejor conjunto de parámetros:  {'criterion': 'gini', 'n_estimators': 4}\n"
     ]
    }
   ],
   "source": [
    "print(\"Mejor exactitud: \", gridCV.best_score_)\n",
    "print(\"Resultados parciales: \", gridCV.grid_scores_)\n",
    "print(\"Mejor conjunto de parámetros: \", gridCV.best_params_)"
   ]
  },
  {
   "cell_type": "code",
   "execution_count": 30,
   "metadata": {},
   "outputs": [
    {
     "name": "stdout",
     "output_type": "stream",
     "text": [
      "             precision    recall  f1-score   support\n",
      "\n",
      "          0       1.00      1.00      1.00        42\n",
      "          1       1.00      1.00      1.00        88\n",
      "\n",
      "avg / total       1.00      1.00      1.00       130\n",
      "\n",
      "1.0\n"
     ]
    }
   ],
   "source": [
    "#Ejecutando el mejor modelo\n",
    "pred_test = gridCV.predict(X_test)\n",
    "\n",
    "from sklearn.metrics import classification_report\n",
    "classes = ['0', '1','2']\n",
    "print(classification_report(y_test, pred_test, target_names=classes))\n",
    "print(accuracy_score(y_test,pred_test))"
   ]
  },
  {
   "cell_type": "code",
   "execution_count": 31,
   "metadata": {},
   "outputs": [
    {
     "data": {
      "text/plain": [
       "array([[42,  0],\n",
       "       [ 0, 88]])"
      ]
     },
     "execution_count": 31,
     "metadata": {},
     "output_type": "execute_result"
    }
   ],
   "source": [
    "from sklearn.metrics import confusion_matrix\n",
    "confusion_matrix(y_test, pred_test)"
   ]
  },
  {
   "cell_type": "code",
   "execution_count": 11,
   "metadata": {},
   "outputs": [
    {
     "name": "stdout",
     "output_type": "stream",
     "text": [
      "1e-10 - [ 0.69364162  0.69364162  0.69364162]\n",
      "1.29154966501e-09 - [ 0.69364162  0.69364162  0.69364162]\n",
      "1.6681005372e-08 - [ 0.69364162  0.69364162  0.69364162]\n",
      "2.15443469003e-07 - [ 0.69364162  0.69364162  0.69364162]\n",
      "2.78255940221e-06 - [ 0.69942197  0.69364162  0.69364162]\n",
      "3.5938136638e-05 - [ 0.98265896  0.97109827  0.97109827]\n",
      "0.000464158883361 - [ 0.97687861  0.98843931  0.98265896]\n",
      "0.00599484250319 - [ 1.          1.          0.99421965]\n",
      "0.0774263682681 - [ 0.99421965  1.          0.98843931]\n",
      "1.0 - [ 0.99421965  1.          0.98843931]\n"
     ]
    },
    {
     "data": {
      "text/plain": [
       "<matplotlib.figure.Figure at 0x7f1dfc03fd68>"
      ]
     },
     "metadata": {},
     "output_type": "display_data"
    }
   ],
   "source": [
    "svc = svm.SVC(kernel='poly')\n",
    "C_s = np.logspace(-10, 0, 10)\n",
    "scores = list()\n",
    "scores_std = list()\n",
    "for C in C_s:\n",
    "    svc.C = C\n",
    "    this_scores = cross_val_score(svc, X_train, y_train)\n",
    "    print(str(C) + \" - \" + str(this_scores))\n",
    "    scores.append(np.mean(this_scores))\n",
    "    scores_std.append(np.std(this_scores))\n",
    "\n",
    "# Do the plotting\n",
    "import matplotlib.pyplot as plt\n",
    "plt.figure(1, figsize=(4, 3))\n",
    "plt.clf()\n",
    "plt.semilogx(C_s, scores)\n",
    "plt.semilogx(C_s, np.array(scores) + np.array(scores_std), 'b--')\n",
    "plt.semilogx(C_s, np.array(scores) - np.array(scores_std), 'b--')\n",
    "locs, labels = plt.yticks()\n",
    "plt.yticks(locs, list(map(lambda x: \"%g\" % x, locs)))\n",
    "plt.ylabel('CV score')\n",
    "plt.xlabel('Parameter C')\n",
    "plt.ylim(0, 1.1)\n",
    "plt.show()"
   ]
  },
  {
   "cell_type": "code",
   "execution_count": 12,
   "metadata": {},
   "outputs": [],
   "source": [
    "# Importando el método \n",
    "from sklearn.model_selection import validation_curve\n",
    "from sklearn.preprocessing import StandardScaler\n",
    "\n",
    "from sklearn.pipeline import Pipeline\n",
    "pipe_lr = Pipeline([('scl', StandardScaler()),\n",
    "                    ('clf', svm.SVC(kernel='linear', random_state=1))])"
   ]
  },
  {
   "cell_type": "code",
   "execution_count": 13,
   "metadata": {},
   "outputs": [],
   "source": [
    "param_range = [0.001, 0.01, 0.1, 1.0, 10.0, 100.0]\n",
    "train_scores, test_scores = validation_curve(estimator=pipe_lr, X=X_train, y=y_train, param_name='clf__C',param_range=param_range, cv=10)"
   ]
  },
  {
   "cell_type": "code",
   "execution_count": 14,
   "metadata": {},
   "outputs": [
    {
     "data": {
      "image/png": "[encoded data removed]",
      "text/plain": [
       "<matplotlib.figure.Figure at 0x7f1db86507f0>"
      ]
     },
     "metadata": {},
     "output_type": "display_data"
    }
   ],
   "source": [
    "train_mean = np.mean(train_scores, axis=1)\n",
    "train_std = np.std(train_scores, axis=1)\n",
    "test_mean = np.mean(test_scores, axis=1)\n",
    "test_std = np.std(test_scores, axis=1)\n",
    "\n",
    "import matplotlib.pyplot as plt\n",
    "plt.plot(param_range, train_mean, \n",
    "         color='blue', marker='o', \n",
    "         markersize=5, label='training accuracy')\n",
    "\n",
    "plt.fill_between(param_range, train_mean + train_std,\n",
    "                 train_mean - train_std, alpha=0.15,\n",
    "                 color='blue')\n",
    "\n",
    "plt.plot(param_range, test_mean, \n",
    "         color='green', linestyle='--', \n",
    "         marker='s', markersize=5, \n",
    "         label='validation accuracy')\n",
    "\n",
    "plt.fill_between(param_range, \n",
    "                 test_mean + test_std,\n",
    "                 test_mean - test_std, \n",
    "                 alpha=0.15, color='green')\n",
    "\n",
    "plt.grid()\n",
    "plt.xscale('log')\n",
    "plt.legend(loc='lower right')\n",
    "plt.xlabel('Parameter C')\n",
    "plt.ylabel('Accuracy')\n",
    "plt.ylim([0.8, 1.0])\n",
    "plt.tight_layout()\n",
    "# plt.savefig('./figures/validation_curve.png', dpi=300)\n",
    "plt.show()"
   ]
  },
  {
   "cell_type": "code",
   "execution_count": null,
   "metadata": {},
   "outputs": [],
   "source": []
  }
 ],
 "metadata": {
  "kernelspec": {
   "display_name": "Python 3",
   "language": "python",
   "name": "python3"
  },
  "language_info": {
   "codemirror_mode": {
    "name": "ipython",
    "version": 3
   },
   "file_extension": ".py",
   "mimetype": "text/x-python",
   "name": "python",
   "nbconvert_exporter": "python",
   "pygments_lexer": "ipython3",
   "version": "3.6.3"
  }
 },
 "nbformat": 4,
 "nbformat_minor": 2
}
