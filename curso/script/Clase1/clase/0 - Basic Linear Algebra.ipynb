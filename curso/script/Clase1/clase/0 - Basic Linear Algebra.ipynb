{
 "cells": [
  {
   "cell_type": "markdown",
   "metadata": {
    "deletable": true,
    "editable": true
   },
   "source": [
    "## Manejo de Arreglos"
   ]
  },
  {
   "cell_type": "code",
   "execution_count": 1,
   "metadata": {
    "collapsed": true,
    "deletable": true,
    "editable": true
   },
   "outputs": [],
   "source": [
    "# Importando librerias para manejo de arrays y para plotear\n",
    "import numpy as np"
   ]
  },
  {
   "cell_type": "code",
   "execution_count": 2,
   "metadata": {
    "collapsed": false,
    "deletable": true,
    "editable": true
   },
   "outputs": [
    {
     "name": "stdout",
     "output_type": "stream",
     "text": [
      "[1 2 3]\n"
     ]
    }
   ],
   "source": [
    "# Creando mi primer array unidimensional\n",
    "a = np.array([1,2,3])\n",
    "print(a)"
   ]
  },
  {
   "cell_type": "code",
   "execution_count": 3,
   "metadata": {
    "collapsed": false,
    "deletable": true,
    "editable": true
   },
   "outputs": [
    {
     "name": "stdout",
     "output_type": "stream",
     "text": [
      "[[1 2 3]\n",
      " [4 5 6]]\n"
     ]
    }
   ],
   "source": [
    "# Creando mi array bidimensional\n",
    "b = np.array([[1,2,3],[4,5,6]])\n",
    "print(b)"
   ]
  },
  {
   "cell_type": "code",
   "execution_count": 3,
   "metadata": {
    "collapsed": false,
    "deletable": true,
    "editable": true
   },
   "outputs": [
    {
     "name": "stdout",
     "output_type": "stream",
     "text": [
      "[1 1 1 1 1]\n",
      "[[1 1 1 1]\n",
      " [1 1 1 1]\n",
      " [1 1 1 1]\n",
      " [1 1 1 1]\n",
      " [1 1 1 1]]\n"
     ]
    }
   ],
   "source": [
    "# Creando un arreglo unidimensional de unos\n",
    "uni_ones = np.ones(shape=[5],dtype=np.int)\n",
    "print(uni_ones)\n",
    "# Creando un arreglo unidimensional de unos\n",
    "bi_ones = np.ones(shape=[5,4],dtype=np.int)\n",
    "print(bi_ones)"
   ]
  },
  {
   "cell_type": "code",
   "execution_count": 5,
   "metadata": {
    "collapsed": false,
    "deletable": true,
    "editable": true
   },
   "outputs": [
    {
     "name": "stdout",
     "output_type": "stream",
     "text": [
      "(5,)\n",
      "(5, 4)\n"
     ]
    }
   ],
   "source": [
    "# Imprimiendo las dimensiones\n",
    "print(uni_ones.shape)\n",
    "print(bi_ones.shape)"
   ]
  },
  {
   "cell_type": "code",
   "execution_count": 7,
   "metadata": {
    "collapsed": false,
    "deletable": true,
    "editable": true
   },
   "outputs": [
    {
     "name": "stdout",
     "output_type": "stream",
     "text": [
      "[[ 0.4071631   0.71258966  0.22802354]\n",
      " [ 0.38284035  0.00308013  0.28536741]]\n"
     ]
    }
   ],
   "source": [
    "# Creando un arreglo bidimensional random (valores entre 0 y 1)\n",
    "bi_random = np.random.random([2,3])\n",
    "print(bi_random)"
   ]
  },
  {
   "cell_type": "markdown",
   "metadata": {
    "deletable": true,
    "editable": true
   },
   "source": [
    "### Operaciones en un arreglo"
   ]
  },
  {
   "cell_type": "code",
   "execution_count": 8,
   "metadata": {
    "collapsed": false,
    "deletable": true,
    "editable": true
   },
   "outputs": [
    {
     "name": "stdout",
     "output_type": "stream",
     "text": [
      "2.01906419589\n",
      "[ 0.79000345  0.71566979  0.51339095]\n",
      "[ 1.34777631  0.67128789]\n"
     ]
    }
   ],
   "source": [
    "#suma\n",
    "print(bi_random.sum())\n",
    "print(bi_random.sum(axis=0)) #por columna\n",
    "print(bi_random.sum(axis=1)) #por fila"
   ]
  },
  {
   "cell_type": "code",
   "execution_count": 24,
   "metadata": {
    "collapsed": false,
    "deletable": true,
    "editable": true
   },
   "outputs": [
    {
     "name": "stdout",
     "output_type": "stream",
     "text": [
      "0.685637909329\n",
      "0.283808612631\n"
     ]
    }
   ],
   "source": [
    "# Otras operaciones\n",
    "print(bi_random.mean()) #media\n",
    "print(bi_random.std()) #desviación estándar"
   ]
  },
  {
   "cell_type": "markdown",
   "metadata": {
    "deletable": true,
    "editable": true
   },
   "source": [
    "### Operaciones entre arreglos"
   ]
  },
  {
   "cell_type": "code",
   "execution_count": 28,
   "metadata": {
    "collapsed": false,
    "deletable": true,
    "editable": true
   },
   "outputs": [
    {
     "name": "stdout",
     "output_type": "stream",
     "text": [
      "17\n",
      "[[ 5  6]\n",
      " [10 12]]\n"
     ]
    }
   ],
   "source": [
    "# Multiplicación entre arreglos unidimensionales\n",
    "x = np.array([1,2])\n",
    "y = np.array([5,6])\n",
    "print(np.dot(x,y))\n",
    "print(np.outer(x,y))"
   ]
  },
  {
   "cell_type": "code",
   "execution_count": 34,
   "metadata": {
    "collapsed": false,
    "deletable": true,
    "editable": true
   },
   "outputs": [
    {
     "name": "stdout",
     "output_type": "stream",
     "text": [
      "[[14 14]\n",
      " [26 26]]\n",
      "[[ 1  1  1  2  2  2]\n",
      " [ 2  2  2  4  4  4]\n",
      " [ 3  3  3  6  6  6]\n",
      " [ 3  3  3  6  6  6]\n",
      " [ 4  4  4  8  8  8]\n",
      " [ 5  5  5 10 10 10]]\n"
     ]
    }
   ],
   "source": [
    "# Multiplicación entre arreglos bidimensionales\n",
    "bi_x = np.array([[1,2,3],[3,4,5]])\n",
    "bi_y = np.array([[1,1,1],[2,2,2]])\n",
    "bi_y_dot = np.array([[1,1],[2,2],[3,3]])\n",
    "print(np.dot(bi_x, bi_y_dot))\n",
    "print(np.outer(bi_x, bi_y))"
   ]
  },
  {
   "cell_type": "code",
   "execution_count": 35,
   "metadata": {
    "collapsed": false,
    "deletable": true,
    "editable": true
   },
   "outputs": [
    {
     "data": {
      "text/plain": [
       "array([1, 2, 3, 4, 5, 6])"
      ]
     },
     "execution_count": 35,
     "metadata": {},
     "output_type": "execute_result"
    }
   ],
   "source": [
    "m = np.array([1,2,3,4,5,5,6,3,2])\n",
    "np.unique(m)"
   ]
  },
  {
   "cell_type": "code",
   "execution_count": 36,
   "metadata": {
    "collapsed": false,
    "deletable": true,
    "editable": true
   },
   "outputs": [
    {
     "data": {
      "text/plain": [
       "'Ejercicio\\n\\nHalle los siguientes datos del dataset\\nNumero de muestras por clase (digito)\\nValor minimo, maximo, media y varianza entre valores de pixel del dataset \\n\\tpara todo\\n\\tpara cada clase\\n'"
      ]
     },
     "execution_count": 36,
     "metadata": {},
     "output_type": "execute_result"
    }
   ],
   "source": [
    "'''Ejercicio\n",
    "\n",
    "Halle los siguientes datos del dataset\n",
    "Numero de muestras por clase (digito)\n",
    "Valor minimo, maximo, media y varianza entre valores de pixel del dataset \n",
    "\tpara todo\n",
    "\tpara cada clase\n",
    "'''\t"
   ]
  },
  {
   "cell_type": "code",
   "execution_count": 9,
   "metadata": {
    "collapsed": true,
    "deletable": true,
    "editable": true
   },
   "outputs": [],
   "source": [
    "from sklearn import datasets"
   ]
  },
  {
   "cell_type": "code",
   "execution_count": 10,
   "metadata": {
    "collapsed": true
   },
   "outputs": [],
   "source": [
    "digits = datasets.load_digits()"
   ]
  },
  {
   "cell_type": "code",
   "execution_count": 15,
   "metadata": {
    "collapsed": false
   },
   "outputs": [],
   "source": [
    "X = digits.data\n",
    "y = digits.target #clase números de 0 a 9"
   ]
  },
  {
   "cell_type": "code",
   "execution_count": 26,
   "metadata": {
    "collapsed": false
   },
   "outputs": [
    {
     "name": "stdout",
     "output_type": "stream",
     "text": [
      "0 \t 178 \t 0.0 \t 16.0 \t 4.95215941011 \t 5.72796620204\n",
      "1 \t 182 \t 0.0 \t 16.0 \t 4.89414491758 \t 6.41000195465\n",
      "2 \t 177 \t 0.0 \t 16.0 \t 4.90519067797 \t 6.07589545193\n",
      "3 \t 183 \t 0.0 \t 16.0 \t 4.79431352459 \t 5.94533026447\n",
      "4 \t 181 \t 0.0 \t 16.0 \t 4.85488604972 \t 6.07305506979\n",
      "5 \t 182 \t 0.0 \t 16.0 \t 4.80039491758 \t 5.95239902075\n",
      "6 \t 181 \t 0.0 \t 16.0 \t 4.86325966851 \t 6.03660138036\n",
      "7 \t 179 \t 0.0 \t 16.0 \t 4.73891410615 \t 6.01702725416\n",
      "8 \t 174 \t 0.0 \t 16.0 \t 5.15517241379 \t 6.02019964004\n",
      "9 \t 180 \t 0.0 \t 16.0 \t 4.89513888889 \t 5.87199485625\n"
     ]
    }
   ],
   "source": [
    "for digit in np.unique(y):\n",
    "    X_dig = X[digit == y]\n",
    "    print(digit, \"\\t\", X_dig.shape[0], \"\\t\", X_dig.min(), \"\\t\", X_dig.max(), \"\\t\", X_dig.mean(), \"\\t\", X_dig.std())"
   ]
  },
  {
   "cell_type": "code",
   "execution_count": 28,
   "metadata": {
    "collapsed": false
   },
   "outputs": [
    {
     "data": {
      "text/plain": [
       "array([ True, False, False, ..., False, False, False], dtype=bool)"
      ]
     },
     "execution_count": 28,
     "metadata": {},
     "output_type": "execute_result"
    }
   ],
   "source": [
    "0 == y"
   ]
  },
  {
   "cell_type": "code",
   "execution_count": null,
   "metadata": {
    "collapsed": true
   },
   "outputs": [],
   "source": []
  }
 ],
 "metadata": {
  "kernelspec": {
   "display_name": "Python 3",
   "language": "python",
   "name": "python3"
  },
  "language_info": {
   "codemirror_mode": {
    "name": "ipython",
    "version": 3
   },
   "file_extension": ".py",
   "mimetype": "text/x-python",
   "name": "python",
   "nbconvert_exporter": "python",
   "pygments_lexer": "ipython3",
   "version": "3.5.1"
  }
 },
 "nbformat": 4,
 "nbformat_minor": 2
}
