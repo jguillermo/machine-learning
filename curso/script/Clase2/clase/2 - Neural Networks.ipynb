{
 "cells": [
  {
   "cell_type": "code",
   "execution_count": 46,
   "metadata": {
    "collapsed": true
   },
   "outputs": [],
   "source": [
    "# Cargando las bibliotecas\n",
    "import numpy as np\n",
    "from sklearn import datasets\n",
    "from sklearn.neural_network import MLPClassifier\n",
    "from util import plot_decision_regions\n",
    "import matplotlib.pyplot as plt"
   ]
  },
  {
   "cell_type": "code",
   "execution_count": 40,
   "metadata": {
    "collapsed": false
   },
   "outputs": [
    {
     "data": {
      "text/plain": [
       "MLPClassifier(activation='tanh', alpha=0.0001, batch_size='auto', beta_1=0.9,\n",
       "       beta_2=0.999, early_stopping=False, epsilon=1e-08,\n",
       "       hidden_layer_sizes=(3, 3), learning_rate='constant',\n",
       "       learning_rate_init=0.01, max_iter=10000, momentum=0.9,\n",
       "       nesterovs_momentum=True, power_t=0.5, random_state=1, shuffle=True,\n",
       "       solver='sgd', tol=0.0001, validation_fraction=0.1, verbose=False,\n",
       "       warm_start=False)"
      ]
     },
     "execution_count": 40,
     "metadata": {},
     "output_type": "execute_result"
    }
   ],
   "source": [
    "ds = datasets.load_iris()\n",
    "X, y = ds.data, ds.target\n",
    "clf = MLPClassifier(activation='tanh',solver='sgd', learning_rate_init=0.01, hidden_layer_sizes=(3, 3), max_iter=10000, random_state=1)\n",
    "clf.fit(X, y) "
   ]
  },
  {
   "cell_type": "code",
   "execution_count": 41,
   "metadata": {
    "collapsed": false
   },
   "outputs": [
    {
     "name": "stdout",
     "output_type": "stream",
     "text": [
      "Expected\n",
      "[2 1 2 0 1 0 1 2 2 1]\n",
      "Obtained\n",
      "[2 1 2 0 1 0 1 2 2 1]\n"
     ]
    },
    {
     "data": {
      "text/plain": [
       "1.0"
      ]
     },
     "execution_count": 41,
     "metadata": {},
     "output_type": "execute_result"
    }
   ],
   "source": [
    "# Haciendo pruebas\n",
    "indexes = np.random.randint(len(X),size=10)\n",
    "X_test = X[indexes]\n",
    "y_test = y[indexes]\n",
    "print(\"Expected\")\n",
    "print(y_test)\n",
    "res = clf.predict(X_test)\n",
    "print(\"Obtained\")\n",
    "print(res)\n",
    "# Calcula el score mean accuracy\n",
    "clf.score(X_test,y_test)"
   ]
  },
  {
   "cell_type": "code",
   "execution_count": 42,
   "metadata": {
    "collapsed": false
   },
   "outputs": [
    {
     "name": "stdout",
     "output_type": "stream",
     "text": [
      "[[-0.15802683  0.23876805 -0.92558325]\n",
      " [-0.3689396   0.37037678 -0.75482158]\n",
      " [-0.58229048 -0.50305492 -0.19114461]\n",
      " [ 0.071643   -0.79026781  0.34295028]]\n",
      "[[ 0.4874856  -0.13458719 -0.15260861]\n",
      " [-2.39707094 -2.14664573  1.08130259]\n",
      " [ 1.08425856 -0.33809729  0.11369883]]\n",
      "[[-2.06368811 -1.35945378  2.5972202 ]\n",
      " [-2.5791386   0.89729888  1.63652895]\n",
      " [ 0.94149927 -0.09749809 -0.76288738]]\n"
     ]
    }
   ],
   "source": [
    "# Verificacion de las matrices de pesos\n",
    "[coef.shape for coef in clf.coefs_]\n",
    "for coef in clf.coefs_:\n",
    "    print(coef)"
   ]
  },
  {
   "cell_type": "markdown",
   "metadata": {},
   "source": [
    "## Visualizando las regiones"
   ]
  },
  {
   "cell_type": "code",
   "execution_count": 51,
   "metadata": {
    "collapsed": false
   },
   "outputs": [
    {
     "data": {
      "image/png": "[encoded data removed]",
      "text/plain": [
       "<matplotlib.figure.Figure at 0x6670f90>"
      ]
     },
     "metadata": {},
     "output_type": "display_data"
    }
   ],
   "source": [
    "X, y = ds.data[:,:2], ds.target\n",
    "\n",
    "clf = MLPClassifier(solver='sgd', hidden_layer_sizes=(2,4,2), max_iter=10000, random_state=1)\n",
    "clf.fit(X, y)\n",
    "\n",
    "plot_decision_regions(X, y, classifier=clf,ds=ds)\n",
    "plt.xlabel(ds.feature_names[0])\n",
    "plt.ylabel(ds.feature_names[1])\n",
    "plt.legend(loc='upper left')\n",
    "plt.show()"
   ]
  },
  {
   "cell_type": "code",
   "execution_count": null,
   "metadata": {
    "collapsed": true
   },
   "outputs": [],
   "source": []
  }
 ],
 "metadata": {
  "kernelspec": {
   "display_name": "Python 3",
   "language": "python",
   "name": "python3"
  },
  "language_info": {
   "codemirror_mode": {
    "name": "ipython",
    "version": 3
   },
   "file_extension": ".py",
   "mimetype": "text/x-python",
   "name": "python",
   "nbconvert_exporter": "python",
   "pygments_lexer": "ipython3",
   "version": "3.5.1"
  }
 },
 "nbformat": 4,
 "nbformat_minor": 2
}
